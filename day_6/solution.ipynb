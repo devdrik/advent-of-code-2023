{
 "cells": [
  {
   "cell_type": "code",
   "execution_count": 126,
   "metadata": {},
   "outputs": [],
   "source": [
    "def get_input() -> list[str]:\n",
    "    return get_lines_from_file('./input')\n",
    "\n",
    "def get_test_input(filepath) -> list[str]:\n",
    "    return get_lines_from_file(filepath)\n",
    "\n",
    "def get_lines_from_file(filepath) -> list[str]:\n",
    "    with open(filepath) as f:\n",
    "        return [line.strip('\\n') for line in f.readlines()]\n",
    "\n",
    "def get_str_from_file(filepath) -> str:\n",
    "    with open(filepath) as f:\n",
    "        return f.readline().strip('\\n')\n",
    "\n",
    "def get_int_from_file(filepath) -> int:\n",
    "    with open(filepath) as f:\n",
    "        return int(f.readline().strip())\n",
    "\n",
    "def log_invocation(func):\n",
    "    def logged_func(*args):\n",
    "        res = func(*args)\n",
    "        print(f'{func.__name__}({args}) -> {res}')\n",
    "        return res\n",
    "    return logged_func"
   ]
  },
  {
   "cell_type": "code",
   "execution_count": 127,
   "metadata": {},
   "outputs": [],
   "source": [
    "import math\n",
    "import regex as re"
   ]
  },
  {
   "cell_type": "code",
   "execution_count": 140,
   "metadata": {},
   "outputs": [],
   "source": [
    "def solution1(input: list[str]) -> int:\n",
    "    # Your code goes here...\n",
    "    tl = map(int, re.findall(r'\\d+', input[0]))\n",
    "    dl = map(int, re.findall(r'\\d+', input[1]))\n",
    "\n",
    "    t_hold_range = lambda t, d: len(range(math.floor(0.5*(t - math.sqrt(t*t-4*d))+1), math.ceil(0.5*(t + math.sqrt(t*t-4*d))-1)))+1\n",
    "\n",
    "    return math.prod(map(t_hold_range, tl, dl))\n",
    "\n",
    "def solution2(input: list[str]) -> int:\n",
    "    # Your code goes here...\n",
    "    t = int(''.join(re.findall(r'\\d+', input[0])))\n",
    "    d = int(''.join(re.findall(r'\\d+', input[1])))\n",
    "    return len(range(math.floor(0.5*(t - math.sqrt(t*t-4*d))+1), math.ceil(0.5*(t + math.sqrt(t*t-4*d))-1)))+1"
   ]
  },
  {
   "cell_type": "code",
   "execution_count": 141,
   "metadata": {},
   "outputs": [
    {
     "name": "stdout",
     "output_type": "stream",
     "text": [
      "Your solution for part 1 works!!! :) (on the test input, that is)\n",
      "Let`s try it on the actual input now...\n",
      "The solution for part 1 is: 211904\n",
      "\n",
      "On to part 2...\n",
      "\n",
      "Your solution for part 2 works!!! :) (on the test input, that is)\n",
      "Let`s try it on the actual input now...\n",
      "The solution for part 2 is: 43364472\n"
     ]
    }
   ],
   "source": [
    "solutions = [\n",
    "    solution1,\n",
    "    solution2,\n",
    "]\n",
    "\n",
    "test_inputs = [\n",
    "    get_test_input('./test_input1'),\n",
    "    get_test_input('./test_input2')\n",
    "]\n",
    "\n",
    "test_results = [\n",
    "    get_int_from_file('./test_result1'),\n",
    "    get_int_from_file('./test_result2'),\n",
    "]\n",
    "\n",
    "def run_test(idx) -> bool:\n",
    "    res = solutions[idx-1](test_inputs[idx-1])\n",
    "    test_res = test_results[idx-1]\n",
    "    \n",
    "    if test_res == res:\n",
    "        print(f'Your solution for part {idx} works!!! :) (on the test input, that is)')\n",
    "        print(f'Let`s try it on the actual input now...')\n",
    "        return True\n",
    "    else:\n",
    "        print(f'Your solution for part {idx} does not work yet. Keep going!')\n",
    "        print(f'You`ve got {res}, but the correct test result is {test_res}')\n",
    "        return False\n",
    "\n",
    "def run_solution(idx):\n",
    "    sol = solutions[idx-1](get_input())\n",
    "    print(f'The solution for part {idx} is: {sol}')\n",
    "\n",
    "if run_test(1):\n",
    "    run_solution(1)\n",
    "    print('\\nOn to part 2...\\n')\n",
    "    if run_test(2):\n",
    "        run_solution(2)"
   ]
  }
 ],
 "metadata": {
  "kernelspec": {
   "display_name": "Python 3.10.6 ('.venv': venv)",
   "language": "python",
   "name": "python3"
  },
  "language_info": {
   "codemirror_mode": {
    "name": "ipython",
    "version": 3
   },
   "file_extension": ".py",
   "mimetype": "text/x-python",
   "name": "python",
   "nbconvert_exporter": "python",
   "pygments_lexer": "ipython3",
   "version": "3.9.17"
  },
  "orig_nbformat": 4,
  "vscode": {
   "interpreter": {
    "hash": "09e8dbe911bf21f3c386d4d2edf688b1ba07bf689a7c55b370a524f1797d9d36"
   }
  }
 },
 "nbformat": 4,
 "nbformat_minor": 2
}
